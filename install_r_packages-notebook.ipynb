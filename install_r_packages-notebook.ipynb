{
 "cells": [
  {
   "cell_type": "markdown",
   "metadata": {
    "application/vnd.databricks.v1+cell": {
     "cellMetadata": {},
     "inputWidgets": {},
     "nuid": "c9ba3e3d-cee0-47ed-a2a6-2937b0ab3673",
     "showTitle": false,
     "title": ""
    }
   },
   "source": [
    "## Installing R packages"
   ]
  },
  {
   "cell_type": "markdown",
   "metadata": {
    "application/vnd.databricks.v1+cell": {
     "cellMetadata": {},
     "inputWidgets": {},
     "nuid": "26a97068-14d8-4194-b9f0-35ab9d58ead9",
     "showTitle": false,
     "title": ""
    }
   },
   "source": [
    "## Introduction\n",
    "\n",
    "This notebook installs the required R libraries.\n",
    "\n",
    "The libraries gets installed into `/usr/lib/R/site-library`\n",
    "\n",
    "Afterwards, the libraries gets copied into `dbfs:/FileStore/Rpackage/rlibrary`\n",
    "\n",
    "The libraries can then be easily applied in other notebooks by running: `%r .libPaths(c(.libPaths(), normalizePath(\"/dbfs/FileStore/Rpackage/rlibrary/\")))`"
   ]
  },
  {
   "cell_type": "markdown",
   "metadata": {
    "application/vnd.databricks.v1+cell": {
     "cellMetadata": {},
     "inputWidgets": {},
     "nuid": "5e505ab0-4330-4142-8d3e-2818d62a6902",
     "showTitle": false,
     "title": ""
    }
   },
   "source": [
    "## Install libaries"
   ]
  },
  {
   "cell_type": "code",
   "execution_count": 0,
   "metadata": {
    "application/vnd.databricks.v1+cell": {
     "cellMetadata": {},
     "inputWidgets": {},
     "nuid": "36d2fbc7-9091-43ef-ac59-4a0479445652",
     "showTitle": false,
     "title": ""
    }
   },
   "outputs": [],
   "source": [
    "# ruff: noqa: E501"
   ]
  },
  {
   "cell_type": "code",
   "execution_count": 0,
   "metadata": {
    "application/vnd.databricks.v1+cell": {
     "cellMetadata": {},
     "inputWidgets": {},
     "nuid": "63d59805-dd42-4a6a-a4c0-daddd5af22b4",
     "showTitle": false,
     "title": ""
    }
   },
   "outputs": [],
   "source": [
    "import os\n",
    "import sys\n",
    "\n",
    "sys.path.append(os.path.abspath(\"..\"))\n",
    "from databricks.sdk import WorkspaceClient\n",
    "\n",
    "w = WorkspaceClient()\n",
    "dbutils = w.dbutils"
   ]
  },
  {
   "cell_type": "code",
   "execution_count": 0,
   "metadata": {
    "application/vnd.databricks.v1+cell": {
     "cellMetadata": {},
     "inputWidgets": {},
     "nuid": "915549c9-e273-4a6a-852a-f40af38bd52f",
     "showTitle": false,
     "title": ""
    }
   },
   "outputs": [],
   "source": [
    "from typing import List\n",
    "\n",
    "\n",
    "def check_libraries_exists_usr(expected_libraries: List[str], dbutils) -> None:\n",
    "    \"\"\"\n",
    "    Checks if the expected R libraries exist in the local\n",
    "    `/usr/lib/R/site-library` path.\n",
    "\n",
    "    Args:\n",
    "        expected_libraries (List[str]): A list of R library names to check.\n",
    "        dbutils: Databricks utility object used to interact with the filesystem.\n",
    "\n",
    "    Raises:\n",
    "        Exception: If the subfolder for any library is not found in the specified path.\n",
    "    \"\"\"\n",
    "    for library in expected_libraries:\n",
    "        library_path = f\"file:/usr/lib/R/site-library/{library}\"\n",
    "        try:\n",
    "            if not any(dbutils.fs.ls(library_path)):\n",
    "                raise Exception(\n",
    "                    f\"Subfolder for library {library} \"\n",
    "                    f\"not found in file:/usr/lib/R/site-library\"\n",
    "                )\n",
    "        except:  # noqa: E722\n",
    "            raise Exception(\n",
    "                f\"Subfolder for library {library} \"\n",
    "                f\"not found in file:/usr/lib/R/site-library\"\n",
    "            )\n",
    "\n",
    "\n",
    "def check_libraries_exists_filestorage(expected_libraries: List[str], dbutils) -> None:\n",
    "    \"\"\"\n",
    "    Checks if the expected R libraries exist\n",
    "    in the Databricks FileStore path `/FileStore/Rpackage/rlibrary`.\n",
    "\n",
    "    Args:\n",
    "        expected_libraries (List[str]): A list of R library names to check.\n",
    "        dbutils: Databricks utility object used to interact with the filesystem.\n",
    "\n",
    "    Raises:\n",
    "        Exception: If the subfolder for any library is not found in the specified path.\n",
    "    \"\"\"\n",
    "    for library in expected_libraries:\n",
    "        library_path = f\"dbfs:/FileStore/Rpackage/rlibrary/{library}\"\n",
    "        try:\n",
    "            if not any(dbutils.fs.ls(library_path)):\n",
    "                raise Exception(\n",
    "                    f\"Subfolder for library {library} \"\n",
    "                    f\"not found in dbfs:/FileStore/Rpackage/rlibrary\"\n",
    "                )\n",
    "        except:  # noqa: E722\n",
    "            raise Exception(\n",
    "                f\"Subfolder for library {library} \"\n",
    "                f\"not found in dbfs:/FileStore/Rpackage/rlibrary\"\n",
    "            )\n"
   ]
  },
  {
   "cell_type": "code",
   "execution_count": 0,
   "metadata": {
    "application/vnd.databricks.v1+cell": {
     "cellMetadata": {},
     "inputWidgets": {},
     "nuid": "57e41bac-8343-4547-985c-a7f5f9ed049c",
     "showTitle": false,
     "title": ""
    }
   },
   "outputs": [],
   "source": [
    "%r\n",
    "# Define a dictionary with package names and versions\n",
    "packages <- list(\n",
    "  \"ggplot2\" = \"3.5.1\",\n",
    "  \"reshape\" = \"0.8.9\",\n",
    ")\n",
    "\n",
    "# Loop through the dictionary and install each package\n",
    "for (pkg in names(packages)) {\n",
    "  version <- packages[[pkg]]\n",
    "  url <- paste0(\"https://cran.r-project.org/package=\", pkg, \"&version=\", version)\n",
    "  cat(\"Installing package:\", pkg, \"version:\", version, \"\\n\")\n",
    "  cat(\"======================================\\n\")\n",
    "  utils::install.packages(pkgs = url, repos = NULL, lib=\"/usr/lib/R/site-library\")\n",
    "}\n"
   ]
  },
  {
   "cell_type": "code",
   "execution_count": 0,
   "metadata": {
    "application/vnd.databricks.v1+cell": {
     "cellMetadata": {},
     "inputWidgets": {},
     "nuid": "0e332ebe-6706-4589-99a5-a3d1a9bb2b4c",
     "showTitle": false,
     "title": ""
    }
   },
   "outputs": [],
   "source": [
    "%r\n",
    "path <-\"/dbfs/FileStore/<your-package>.tar.gz\"\n",
    "install.packages(pkgs=path, repos = NULL, type=\"source\", lib=\"/usr/lib/R/site-library\")"
   ]
  },
  {
   "cell_type": "markdown",
   "metadata": {
    "application/vnd.databricks.v1+cell": {
     "cellMetadata": {},
     "inputWidgets": {},
     "nuid": "a980b300-7bf1-488e-90a0-bf605c643101",
     "showTitle": false,
     "title": ""
    }
   },
   "source": [
    "## Ensure libaries are installed in file:/usr/lib/R/site-library"
   ]
  },
  {
   "cell_type": "code",
   "execution_count": 0,
   "metadata": {
    "application/vnd.databricks.v1+cell": {
     "cellMetadata": {},
     "inputWidgets": {},
     "nuid": "bf6756d0-9027-4fd4-a505-68ce1a744f4b",
     "showTitle": false,
     "title": ""
    }
   },
   "outputs": [],
   "source": [
    "if not any(dbutils.fs.ls(\"file:/usr/lib/R/site-library\")):\n",
    "    raise Exception(\"Nothing to be found in file:/usr/lib/R/site-library\")"
   ]
  },
  {
   "cell_type": "code",
   "execution_count": 0,
   "metadata": {
    "application/vnd.databricks.v1+cell": {
     "cellMetadata": {},
     "inputWidgets": {},
     "nuid": "e7c8c5e5-0875-45ad-bee4-344ae4d562de",
     "showTitle": false,
     "title": ""
    }
   },
   "outputs": [],
   "source": [
    "expected_libraries = [\n",
    "    \"ggplot2\",\n",
    "    \"reshape\",\n",
    "    \"YourPackage\",\n",
    "]"
   ]
  },
  {
   "cell_type": "code",
   "execution_count": 0,
   "metadata": {
    "application/vnd.databricks.v1+cell": {
     "cellMetadata": {},
     "inputWidgets": {},
     "nuid": "583b35bc-bf95-4301-a9e7-ee425a4c30bf",
     "showTitle": false,
     "title": ""
    }
   },
   "outputs": [],
   "source": [
    "\n",
    "# Check if each element in expected_libraries has a corresponding subfolder in the directory\n",
    "check_libraries_exists_usr(expected_libraries, dbutils)"
   ]
  },
  {
   "cell_type": "markdown",
   "metadata": {
    "application/vnd.databricks.v1+cell": {
     "cellMetadata": {},
     "inputWidgets": {},
     "nuid": "96c3518d-e7a4-4efe-8195-14138ced8479",
     "showTitle": false,
     "title": ""
    }
   },
   "source": [
    "## Clear dbfs R packages"
   ]
  },
  {
   "cell_type": "code",
   "execution_count": 0,
   "metadata": {
    "application/vnd.databricks.v1+cell": {
     "cellMetadata": {},
     "inputWidgets": {},
     "nuid": "15199003-53b3-4606-9888-64182a6f1ce0",
     "showTitle": false,
     "title": ""
    }
   },
   "outputs": [],
   "source": [
    "# Clear the library\n",
    "dbutils.fs.rm(\"dbfs:/FileStore/Rpackage/rlibrary\", True)"
   ]
  },
  {
   "cell_type": "markdown",
   "metadata": {
    "application/vnd.databricks.v1+cell": {
     "cellMetadata": {},
     "inputWidgets": {},
     "nuid": "43479807-2cca-4026-a432-c3de2bcea742",
     "showTitle": false,
     "title": ""
    }
   },
   "source": [
    "## Copy R packages to DBFS"
   ]
  },
  {
   "cell_type": "code",
   "execution_count": 0,
   "metadata": {
    "application/vnd.databricks.v1+cell": {
     "cellMetadata": {},
     "inputWidgets": {},
     "nuid": "b6923587-66fd-401f-8302-663e7b8985e3",
     "showTitle": false,
     "title": ""
    }
   },
   "outputs": [],
   "source": [
    "# Specify the source local path\n",
    "local_source = \"file:/usr/lib/R/site-library\"\n",
    "\n",
    "# Specify the destination DBFS location\n",
    "dbfs_destination = \"dbfs:/FileStore/Rpackage/rlibrary\"\n",
    "\n",
    "# Copy files and folders from local path to DBFS\n",
    "dbutils.fs.cp(local_source, dbfs_destination, recurse=True)"
   ]
  },
  {
   "cell_type": "markdown",
   "metadata": {
    "application/vnd.databricks.v1+cell": {
     "cellMetadata": {},
     "inputWidgets": {},
     "nuid": "08828a91-e3aa-4110-b759-93d3803d864d",
     "showTitle": false,
     "title": ""
    }
   },
   "source": [
    "## Ensure libaries are installed in dbfs:/FileStore/Rpackage/rlibrary"
   ]
  },
  {
   "cell_type": "code",
   "execution_count": 0,
   "metadata": {
    "application/vnd.databricks.v1+cell": {
     "cellMetadata": {},
     "inputWidgets": {},
     "nuid": "ec148653-2651-449e-a0b7-e77458695fac",
     "showTitle": false,
     "title": ""
    }
   },
   "outputs": [],
   "source": [
    "if not any(dbutils.fs.ls(\"dbfs:/FileStore/Rpackage/rlibrary\")):\n",
    "    raise Exception(\"Nothing to be found in dbfs:/FileStore/Rpackage/rlibrary\")"
   ]
  },
  {
   "cell_type": "code",
   "execution_count": 0,
   "metadata": {
    "application/vnd.databricks.v1+cell": {
     "cellMetadata": {},
     "inputWidgets": {},
     "nuid": "185b4078-3b06-411b-a554-1228b63f7e30",
     "showTitle": false,
     "title": ""
    }
   },
   "outputs": [],
   "source": [
    "check_libraries_exists_filestorage(expected_libraries, dbutils)"
   ]
  }
 ],
 "metadata": {
  "application/vnd.databricks.v1+notebook": {
   "dashboards": [],
   "environmentMetadata": null,
   "language": "python",
   "notebookMetadata": {
    "pythonIndentUnit": 4
   },
   "notebookName": "install_r_packages",
   "widgets": {}
  },
  "language_info": {
   "name": "python"
  }
 },
 "nbformat": 4,
 "nbformat_minor": 0
}
